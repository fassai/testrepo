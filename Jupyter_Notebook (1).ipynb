{
 "cells": [
  {
   "cell_type": "markdown",
   "metadata": {},
   "source": [
    "<center>\n",
    "    <img src=\"https://cf-courses-data.s3.us.cloud-object-storage.appdomain.cloud/IBMDeveloperSkillsNetwork-DS0105EN-SkillsNetwork/labs/Module2/images/SN_web_lightmode.png\" width=\"300\" alt=\"cognitiveclass.ai logo\"  />\n",
    "</center>\n"
   ]
  },
  {
   "cell_type": "markdown",
   "metadata": {},
   "source": [
    "# My Jupyter Notebook on IBM Watson Studio"
   ]
  },
  {
   "cell_type": "markdown",
   "metadata": {},
   "source": [
    " **Fasai**  **Puengudom**  <br>\n",
    " Quantitative Investment Strategy Developer\n",
    " "
   ]
  },
  {
   "cell_type": "markdown",
   "metadata": {},
   "source": [
    "*I am interested in data science because I want to use data science methods and tools to validate my quantitative investment strategy hypothesis, using quantitative data to create a predictive model. I find data science to be the most scientific way to observe, hypothesize, validate, and create a trading strategy.*"
   ]
  },
  {
   "cell_type": "markdown",
   "metadata": {},
   "source": [
    "### This code is an example of how we can use simple Python code to calculate position size"
   ]
  },
  {
   "cell_type": "code",
   "execution_count": 29,
   "metadata": {},
   "outputs": [
    {
     "name": "stdout",
     "output_type": "stream",
     "text": [
      "How many pips away from the entry is the stoploss?  100 pips\n",
      "Risk in dollar = 1000.0 $\n",
      "Position size = 1.0 Standard lot\n"
     ]
    }
   ],
   "source": [
    "riskInPercent = 0.01\n",
    "riskInPip = 100\n",
    "riskInDollar = accountSize * riskInPercent\n",
    "accountSize = 100000\n",
    "positionSize = riskInDollar / riskInPip\n",
    "\n",
    "print(\"How many pips away from the entry is the stoploss? \",riskInPip,\"pips\")\n",
    "print(\"Risk in dollar =\",riskInDollar,\"$\")\n",
    "print(\"Position size =\", positionSize/10,\"Standard lot\") "
   ]
  },
  {
   "cell_type": "markdown",
   "metadata": {},
   "source": [
    "***\n",
    "Have you ever...\n",
    "\n",
    "- Fumbled with dynamic position sizing that you missed a trade.\n",
    "- Overtradded \n",
    "- Undertraded \n",
    "\n",
    "~~NO MORE!~~ \n",
    "\n",
    "How can you use this code\n",
    "1. Decide how much you are willing to risk in one trade (risk in dollar)\n",
    "2. Decide where to put your stoploss (risk in pips)\n",
    "3. This code will calculate the appropate lot size for you\n",
    "\n",
    "<div class=\"alert alert-block alert-danger\">\n",
    "This is not a financial advise. Please trade at your own risk and always do your own research before trading.\n",
    "</div>\n",
    "\n"
   ]
  },
  {
   "cell_type": "code",
   "execution_count": null,
   "metadata": {},
   "outputs": [],
   "source": []
  },
  {
   "cell_type": "code",
   "execution_count": null,
   "metadata": {},
   "outputs": [],
   "source": []
  }
 ],
 "metadata": {
  "kernelspec": {
   "display_name": "Python",
   "language": "python",
   "name": "conda-env-python-py"
  },
  "language_info": {
   "codemirror_mode": {
    "name": "ipython",
    "version": 3
   },
   "file_extension": ".py",
   "mimetype": "text/x-python",
   "name": "python",
   "nbconvert_exporter": "python",
   "pygments_lexer": "ipython3",
   "version": "3.7.12"
  }
 },
 "nbformat": 4,
 "nbformat_minor": 4
}
